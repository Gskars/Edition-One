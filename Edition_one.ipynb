{
  "nbformat": 4,
  "nbformat_minor": 0,
  "metadata": {
    "colab": {
      "provenance": [],
      "authorship_tag": "ABX9TyNbYQp4BFaBMkCSGmIYJqVJ",
      "include_colab_link": true
    },
    "kernelspec": {
      "name": "python3",
      "display_name": "Python 3"
    },
    "language_info": {
      "name": "python"
    }
  },
  "cells": [
    {
      "cell_type": "markdown",
      "metadata": {
        "id": "view-in-github",
        "colab_type": "text"
      },
      "source": [
        "<a href=\"https://colab.research.google.com/github/Gskars/Edition-One/blob/main/Edition_one.ipynb\" target=\"_parent\"><img src=\"https://colab.research.google.com/assets/colab-badge.svg\" alt=\"Open In Colab\"/></a>"
      ]
    },
    {
      "cell_type": "markdown",
      "source": [
        "Instalando o SDK do google"
      ],
      "metadata": {
        "id": "co4-fS7sKwPf"
      }
    },
    {
      "cell_type": "code",
      "execution_count": 44,
      "metadata": {
        "id": "2YVoG-R-FTq1"
      },
      "outputs": [],
      "source": [
        "!pip install -q -U google-generativeai"
      ]
    },
    {
      "cell_type": "code",
      "source": [
        "import google.generativeai as genai\n",
        "from google.colab import userdata\n",
        "api_key= userdata.get(\"SECRET_KEY\")\n",
        "\n",
        "GOOGLE_API_KEY= \"YOUR_API_KEY_HERE\"\n",
        "genai.configure(api_key=api_key)"
      ],
      "metadata": {
        "id": "IpavPEDAK4HJ"
      },
      "execution_count": 45,
      "outputs": []
    },
    {
      "cell_type": "markdown",
      "source": [
        "Listar os modelos disponíveis, criando um looping"
      ],
      "metadata": {
        "id": "0jzlUcxaLdGU"
      }
    },
    {
      "cell_type": "code",
      "source": [
        "for m in genai.list_models():\n",
        "  if 'generateContent' in m.supported_generation_methods:\n",
        "    print(m.name)"
      ],
      "metadata": {
        "colab": {
          "base_uri": "https://localhost:8080/",
          "height": 468
        },
        "id": "PJx76ktTLPbO",
        "outputId": "88831093-f5e5-4d9c-df1b-6c8db204b62a"
      },
      "execution_count": 46,
      "outputs": [
        {
          "output_type": "stream",
          "name": "stdout",
          "text": [
            "models/gemini-1.0-pro-latest\n",
            "models/gemini-1.0-pro\n",
            "models/gemini-pro\n",
            "models/gemini-1.0-pro-001\n",
            "models/gemini-1.0-pro-vision-latest\n",
            "models/gemini-pro-vision\n",
            "models/gemini-1.5-pro-latest\n",
            "models/gemini-1.5-pro-001\n",
            "models/gemini-1.5-pro-002\n",
            "models/gemini-1.5-pro\n",
            "models/gemini-1.5-flash-latest\n",
            "models/gemini-1.5-flash-001\n",
            "models/gemini-1.5-flash-001-tuning\n",
            "models/gemini-1.5-flash\n",
            "models/gemini-1.5-flash-002\n",
            "models/gemini-1.5-flash-8b\n",
            "models/gemini-1.5-flash-8b-001\n",
            "models/gemini-1.5-flash-8b-latest\n",
            "models/gemini-1.5-flash-8b-exp-0827\n",
            "models/gemini-1.5-flash-8b-exp-0924\n",
            "models/gemini-2.0-flash-exp\n",
            "models/gemini-exp-1206\n",
            "models/gemini-2.0-flash-thinking-exp-01-21\n",
            "models/gemini-2.0-flash-thinking-exp\n",
            "models/gemini-2.0-flash-thinking-exp-1219\n",
            "models/learnlm-1.5-pro-experimental\n"
          ]
        }
      ]
    },
    {
      "cell_type": "code",
      "source": [
        "generation_config = {\n",
        "    \"candidate_count\": 1,\n",
        "    \"temperature\": 0.5 ,\n",
        "}"
      ],
      "metadata": {
        "id": "y2m9UpH2c8lR"
      },
      "execution_count": 47,
      "outputs": []
    },
    {
      "cell_type": "code",
      "source": [
        "safety_settings = {\n",
        "    \"HARASSMENT\": \"BLOCK_NONE\",\n",
        "    \"HATE\": \"BLOCK_NONE\",\n",
        "    \"SEXUAL\": \"BLOCK_NONE\",\n",
        "    \"DANGEROUS\" : \"BLOCK_NONE\"\n",
        "}"
      ],
      "metadata": {
        "id": "bdzwgaifdiyu"
      },
      "execution_count": 48,
      "outputs": []
    },
    {
      "cell_type": "markdown",
      "source": [
        "INICIALIZANDO O MODELO"
      ],
      "metadata": {
        "id": "LGI1xjnghZTw"
      }
    },
    {
      "cell_type": "code",
      "source": [
        "model = genai.GenerativeModel(model_name=\"gemini-1.0-pro\",\n",
        "                              generation_config=generation_config,\n",
        "                              safety_settings=safety_settings)"
      ],
      "metadata": {
        "id": "YMUK_LyKhcb5"
      },
      "execution_count": 49,
      "outputs": []
    },
    {
      "cell_type": "code",
      "source": [
        "chat = model.start_chat ( history = [])"
      ],
      "metadata": {
        "id": "5rmHh5ffi48m"
      },
      "execution_count": 50,
      "outputs": []
    },
    {
      "cell_type": "code",
      "source": [
        "\n",
        "def formatar_titulo(texto):\n",
        "    borda_superior = \"┏\" + \"━\"*58 + \"┓\"\n",
        "    borda_meio = \"┣\" + \"━\"*58 + \"┫\"\n",
        "    borda_inferior = \"┗\" + \"━\"*58 + \"┛\"\n",
        "    titulo_centralizado = texto.upper().center(56)\n",
        "\n",
        "    print(f\"\\n{borda_superior}\")\n",
        "    print(f\"┃ {titulo_centralizado} ┃\")\n",
        "    print(borda_meio)\n",
        "\n",
        "\n",
        "def coletar_dados():\n",
        "    formatar_titulo(\"Dados de Viagem\")\n",
        "\n",
        "    dados = {\n",
        "        \"destino\": input(\"► Destino: \").strip(),\n",
        "        \"dias\": validar_entrada(input(\"► Duração (dias): \"), int),\n",
        "        \"temporada\": input(\"► Temporada (Baixa/Média/Alta): \").lower(),\n",
        "        \"orcamento\": input(\"► Orçamento (Baixo/Médio/Alto): \").lower(),\n",
        "        \"interesses\": input(\"► Interesses principais: \"),\n",
        "        \"estilo\": input(\"► Estilo de viagem: \")\n",
        "    }\n",
        "\n",
        "    return dados\n",
        "\n",
        "def gerar_resposta(prompt):\n",
        "    tentativas = 0\n",
        "    while tentativas < 3:\n",
        "        try:\n",
        "            response = model.generate_content(prompt)\n",
        "            if response.text:\n",
        "                return response.text\n",
        "            time.sleep(2)\n",
        "            tentativas += 1\n",
        "        except Exception as e:\n",
        "            if 'quota' in str(e).lower():\n",
        "                raise Exception(\"Cota da API excedida\")\n",
        "            time.sleep(3)\n",
        "            tentativas += 1\n",
        "    raise Exception(\"Falha na conexão com a API\")\n",
        "\n",
        "def mostrar_roteiro(conteudo):\n",
        "    formatar_titulo(\"seu roteiro\")\n",
        "    print(\"✧ DETALHES DA VIAGEM ✧\".center(50))\n",
        "    print(conteudo)\n",
        "    print(\"\\n\" + \"🌴 BOA VIAGEM! 🌴\".center(50))\n",
        "\n",
        "def main():\n",
        "    try:\n",
        "        dados = coletar_dados()\n",
        "\n",
        "        prompt = f\"\"\"Crie um roteiro detalhado para {dados['destino']} com:\n",
        "- {dados['dias']} dias de duração\n",
        "- Temporada: {dados['temporada']}\n",
        "- Orçamento: {dados['orcamento']}\n",
        "- Interesses: {dados['interesses']}\n",
        "- Estilo: {dados['estilo']}\n",
        "\n",
        "Inclua:\n",
        "1. Programação diária com horários\n",
        "2. Custo estimado em moeda local e USD\n",
        "3. Dicas específicas para o estilo de viagem\n",
        "4. 3 experiências únicas\n",
        "\n",
        "Formato:\n",
        "• Usar emojis temáticos\n",
        "• Destacar valores importantes\n",
        "• Separar por seções claras\"\"\"\n",
        "\n",
        "        resposta = gerar_resposta(prompt)\n",
        "        mostrar_roteiro(resposta)\n",
        "\n",
        "    except Exception as e:\n",
        "        print(f\"\\n⚠️ ERRO: {str(e)}\")\n",
        "        print(\"Soluções possíveis:\")\n",
        "        print(\"- Verifique sua conexão de internet\")\n",
        "        print(\"- Confira sua chave API no Google AI Studio\")\n",
        "        print(\"- Tente novamente mais tarde\")\n",
        "\n",
        "if __name__ == \"__main__\":\n",
        "    main()\n",
        "    while True:\n",
        "        if input(\"\\nDeseja criar outro roteiro? (s/n): \").lower() != 's':\n",
        "            formatar_titulo(\"até a próxima aventura!\")\n",
        "            break\n",
        "        main()"
      ],
      "metadata": {
        "colab": {
          "base_uri": "https://localhost:8080/",
          "height": 1000
        },
        "id": "KJKKWvrqDLFA",
        "outputId": "95066c96-dd55-418f-8c2e-b5b72d8f2bb8"
      },
      "execution_count": 51,
      "outputs": [
        {
          "output_type": "stream",
          "name": "stdout",
          "text": [
            "\n",
            "┏━━━━━━━━━━━━━━━━━━━━━━━━━━━━━━━━━━━━━━━━━━━━━━━━━━━━━━━━━━┓\n",
            "┃                     DADOS DE VIAGEM                      ┃\n",
            "┣━━━━━━━━━━━━━━━━━━━━━━━━━━━━━━━━━━━━━━━━━━━━━━━━━━━━━━━━━━┫\n",
            "► Destino: Las Vegas\n",
            "► Duração (dias): 6\n",
            "► Temporada (Baixa/Média/Alta): alta\n",
            "► Orçamento (Baixo/Médio/Alto): alto\n",
            "► Interesses principais: História, museus\n",
            "► Estilo de viagem: Luxo e conforto\n",
            "\n",
            "┏━━━━━━━━━━━━━━━━━━━━━━━━━━━━━━━━━━━━━━━━━━━━━━━━━━━━━━━━━━┓\n",
            "┃                       SEU ROTEIRO                        ┃\n",
            "┣━━━━━━━━━━━━━━━━━━━━━━━━━━━━━━━━━━━━━━━━━━━━━━━━━━━━━━━━━━┫\n",
            "              ✧ DETALHES DA VIAGEM ✧              \n",
            "**Roteiro de Luxo para Las Vegas (6 Dias)**\n",
            "\n",
            "**Temporada:** Alta\n",
            "\n",
            "**Orçamento:** Alto\n",
            "\n",
            "**Interesses:** História, Museus\n",
            "\n",
            "**Estilo:** Luxo e Conforto\n",
            "\n",
            "**Dia 1**\n",
            "\n",
            "* 14h: Chegue ao Aeroporto Internacional McCarran (LAS) e pegue um táxi de luxo para o Bellagio Resort & Casino (US$ 150)\n",
            "* 15h: Faça o check-in na suíte Bellagio (US$ 1.000 por noite)\n",
            "* 17h: Visite o Jardim Botânico e Conservatório do Bellagio (US$ 25)\n",
            "* 19h: Jante no Lago Bellagio (US$ 200)\n",
            "\n",
            "**Dia 2**\n",
            "\n",
            "* 9h: Visite o Museu da Máfia (US$ 25)\n",
            "* 11h: Almoce no Battista's Hole in the Wall (US$ 50)\n",
            "* 14h: Explore o Museu Neon (US$ 20)\n",
            "* 16h: Faça compras na Fashion Show Mall (US$ 500)\n",
            "* 19h: Jante no Picasso no Bellagio (US$ 300)\n",
            "\n",
            "**Dia 3**\n",
            "\n",
            "* 9h: Faça um passeio de helicóptero pelo Grand Canyon (US$ 500)\n",
            "* 13h: Almoce no El Tovar Dining Room no Grand Canyon (US$ 100)\n",
            "* 16h: Retorne a Las Vegas\n",
            "* 19h: Jante no Joël Robuchon (US$ 400)\n",
            "\n",
            "**Dia 4**\n",
            "\n",
            "* 9h: Visite o Museu de História Natural de Las Vegas (US$ 20)\n",
            "* 11h: Almoce no The Buffet at Aria (US$ 50)\n",
            "* 14h: Explore o Museu da Vida no Deserto (US$ 25)\n",
            "* 16h: Faça um passeio de gôndola ao longo do Venetian Grand Canal (US$ 150)\n",
            "* 19h: Jante no Zuma (US$ 250)\n",
            "\n",
            "**Dia 5**\n",
            "\n",
            "* 9h: Visite o Museu da Cidade de Las Vegas (US$ 15)\n",
            "* 11h: Almoce no Yardbird Southern Table & Bar (US$ 75)\n",
            "* 14h: Faça um passeio de Segway pela Fremont Street (US$ 100)\n",
            "* 16h: Compre lembranças na Fremont Street Experience (US$ 200)\n",
            "* 19h: Jante no Gordon Ramsay Steak (US$ 350)\n",
            "\n",
            "**Dia 6**\n",
            "\n",
            "* 10h: Faça o check-out do Bellagio\n",
            "* 11h: Visite o Museu Nacional de Testes Atômicos (US$ 25)\n",
            "* 13h: Almoce no Atomic Testing Museum Restaurant (US$ 50)\n",
            "* 16h: Parta do Aeroporto Internacional McCarran (LAS)\n",
            "\n",
            "**Custo Estimado**\n",
            "\n",
            "* Hospedagem: US$ 6.000\n",
            "* Transporte: US$ 1.000\n",
            "* Alimentação: US$ 2.500\n",
            "* Atividades: US$ 1.500\n",
            "* Compras: US$ 1.000\n",
            "* **Total:** US$ 12.000\n",
            "\n",
            "**Dicas Específicas para o Estilo de Viagem**\n",
            "\n",
            "* Faça reservas para restaurantes e atividades com antecedência, especialmente durante a alta temporada.\n",
            "* Vista-se com elegância para os jantares finos.\n",
            "* Leve sapatos confortáveis para caminhar e explorar.\n",
            "* Aproveite as comodidades de luxo do seu hotel, como serviço de quarto e spa.\n",
            "\n",
            "**Experiências Únicas**\n",
            "\n",
            "* **Passeio de helicóptero pelo Grand Canyon:** Testemunhe a vastidão e a beleza do Grand Canyon de uma perspectiva aérea.\n",
            "* **Passeio de gôndola ao longo do Venetian Grand Canal:** Experimente a magia de Veneza no coração de Las Vegas.\n",
            "* **Visita ao Museu Nacional de Testes Atômicos:** Aprenda sobre a história e o legado dos testes nucleares no deserto de Nevada.\n",
            "\n",
            "                 🌴 BOA VIAGEM! 🌴                  \n",
            "\n",
            "Deseja criar outro roteiro? (s/n): n\n",
            "\n",
            "┏━━━━━━━━━━━━━━━━━━━━━━━━━━━━━━━━━━━━━━━━━━━━━━━━━━━━━━━━━━┓\n",
            "┃                 ATÉ A PRÓXIMA AVENTURA!                  ┃\n",
            "┣━━━━━━━━━━━━━━━━━━━━━━━━━━━━━━━━━━━━━━━━━━━━━━━━━━━━━━━━━━┫\n"
          ]
        }
      ]
    }
  ]
}