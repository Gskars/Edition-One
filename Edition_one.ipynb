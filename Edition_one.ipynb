{
  "nbformat": 4,
  "nbformat_minor": 0,
  "metadata": {
    "colab": {
      "provenance": [],
      "authorship_tag": "ABX9TyMPRs13RJa/DG1D1SoNV4DQ",
      "include_colab_link": true
    },
    "kernelspec": {
      "name": "python3",
      "display_name": "Python 3"
    },
    "language_info": {
      "name": "python"
    }
  },
  "cells": [
    {
      "cell_type": "markdown",
      "metadata": {
        "id": "view-in-github",
        "colab_type": "text"
      },
      "source": [
        "<a href=\"https://colab.research.google.com/github/Gskars/Edition-One/blob/main/Edition_one.ipynb\" target=\"_parent\"><img src=\"https://colab.research.google.com/assets/colab-badge.svg\" alt=\"Open In Colab\"/></a>"
      ]
    },
    {
      "cell_type": "markdown",
      "source": [
        "Instalando o SDK do google"
      ],
      "metadata": {
        "id": "co4-fS7sKwPf"
      }
    },
    {
      "cell_type": "code",
      "execution_count": 3,
      "metadata": {
        "id": "2YVoG-R-FTq1"
      },
      "outputs": [],
      "source": [
        "!pip install -q -U google-generativeai"
      ]
    },
    {
      "cell_type": "code",
      "source": [
        "import google.generativeai as genai\n",
        "from google.colab import userdata\n",
        "api_key= userdata.get(\"SECRET_KEY\")\n",
        "\n",
        "GOOGLE_API_KEY= \"YOUR_API_KEY_HERE\"\n",
        "genai.configure(api_key=api_key)"
      ],
      "metadata": {
        "id": "IpavPEDAK4HJ"
      },
      "execution_count": 4,
      "outputs": []
    },
    {
      "cell_type": "markdown",
      "source": [
        "Listar os modelos disponíveis, criando um looping"
      ],
      "metadata": {
        "id": "0jzlUcxaLdGU"
      }
    },
    {
      "cell_type": "code",
      "source": [
        "for m in genai.list_models():\n",
        "  if 'generateContent' in m.supported_generation_methods:\n",
        "    print(m.name)"
      ],
      "metadata": {
        "colab": {
          "base_uri": "https://localhost:8080/",
          "height": 538
        },
        "id": "PJx76ktTLPbO",
        "outputId": "804b0388-6707-4f2d-b3a0-878f4230ecce"
      },
      "execution_count": 5,
      "outputs": [
        {
          "output_type": "stream",
          "name": "stdout",
          "text": [
            "models/gemini-1.0-pro-vision-latest\n",
            "models/gemini-pro-vision\n",
            "models/gemini-1.5-pro-latest\n",
            "models/gemini-1.5-pro-001\n",
            "models/gemini-1.5-pro-002\n",
            "models/gemini-1.5-pro\n",
            "models/gemini-1.5-flash-latest\n",
            "models/gemini-1.5-flash-001\n",
            "models/gemini-1.5-flash-001-tuning\n",
            "models/gemini-1.5-flash\n",
            "models/gemini-1.5-flash-002\n",
            "models/gemini-1.5-flash-8b\n",
            "models/gemini-1.5-flash-8b-001\n",
            "models/gemini-1.5-flash-8b-latest\n",
            "models/gemini-1.5-flash-8b-exp-0827\n",
            "models/gemini-1.5-flash-8b-exp-0924\n",
            "models/gemini-2.0-flash-exp\n",
            "models/gemini-2.0-flash\n",
            "models/gemini-2.0-flash-001\n",
            "models/gemini-2.0-flash-lite-001\n",
            "models/gemini-2.0-flash-lite\n",
            "models/gemini-2.0-flash-lite-preview-02-05\n",
            "models/gemini-2.0-flash-lite-preview\n",
            "models/gemini-2.0-pro-exp\n",
            "models/gemini-2.0-pro-exp-02-05\n",
            "models/gemini-exp-1206\n",
            "models/gemini-2.0-flash-thinking-exp-01-21\n",
            "models/gemini-2.0-flash-thinking-exp\n",
            "models/gemini-2.0-flash-thinking-exp-1219\n",
            "models/learnlm-1.5-pro-experimental\n"
          ]
        }
      ]
    },
    {
      "cell_type": "code",
      "source": [
        "generation_config = {\n",
        "    \"candidate_count\": 1,\n",
        "    \"temperature\": 0.5 ,\n",
        "}"
      ],
      "metadata": {
        "id": "y2m9UpH2c8lR"
      },
      "execution_count": 6,
      "outputs": []
    },
    {
      "cell_type": "code",
      "source": [
        "safety_settings = {\n",
        "    \"HARASSMENT\": \"BLOCK_NONE\",\n",
        "    \"HATE\": \"BLOCK_NONE\",\n",
        "    \"SEXUAL\": \"BLOCK_NONE\",\n",
        "    \"DANGEROUS\" : \"BLOCK_NONE\"\n",
        "}"
      ],
      "metadata": {
        "id": "bdzwgaifdiyu"
      },
      "execution_count": 7,
      "outputs": []
    },
    {
      "cell_type": "markdown",
      "source": [
        "INICIALIZANDO O MODELO"
      ],
      "metadata": {
        "id": "LGI1xjnghZTw"
      }
    },
    {
      "cell_type": "code",
      "source": [
        "model = genai.GenerativeModel(\n",
        "    model_name='gemini-1.5-pro',\n",
        "    generation_config=generation_config,\n",
        "    safety_settings=safety_settings,\n",
        ")"
      ],
      "metadata": {
        "id": "YMUK_LyKhcb5"
      },
      "execution_count": 8,
      "outputs": []
    },
    {
      "cell_type": "code",
      "source": [
        "chat = model.start_chat ( history = [])"
      ],
      "metadata": {
        "id": "5rmHh5ffi48m"
      },
      "execution_count": 9,
      "outputs": []
    },
    {
      "cell_type": "code",
      "source": [
        "def formatar_titulo(texto):\n",
        "    borda_superior = \"┏\" + \"━\"*58 + \"┓\"\n",
        "    borda_meio = \"┣\" + \"━\"*58 + \"┫\"\n",
        "    borda_inferior = \"┗\" + \"━\"*58 + \"┛\"\n",
        "    titulo_centralizado = texto.upper().center(56)\n",
        "\n",
        "    print(f\"\\n{borda_superior}\")\n",
        "    print(f\"┃ {titulo_centralizado} ┃\")\n",
        "    print(borda_meio)\n",
        "\n",
        "\n",
        "def coletar_dados():\n",
        "    def validar_entrada(valor, tipo=int):\n",
        "        \"\"\"Valida e converte a entrada para o tipo especificado.\"\"\"\n",
        "        while True:\n",
        "            try:\n",
        "                return tipo(valor)\n",
        "            except ValueError:\n",
        "                valor = input(f\"Entrada inválida. Digite um valor válido ({tipo.__name__}): \").strip()\n",
        "\n",
        "    formatar_titulo(\"Dados de Viagem\")\n",
        "\n",
        "    dados = {\n",
        "        \"destino\": input(\"► Destino: \").strip(),\n",
        "        \"dias\": validar_entrada(input(\"► Duração (dias): \").strip(), int),\n",
        "        \"temporada\": input(\"► Temporada (Baixa/Média/Alta): \").strip().lower(),\n",
        "        \"orcamento\": input(\"► Orçamento (Baixo/Médio/Alto): \").strip().lower(),\n",
        "        \"interesses\": input(\"► Interesses principais: \").strip(),\n",
        "        \"estilo\": input(\"► Estilo de viagem: \").strip()\n",
        "    }\n",
        "\n",
        "    return dados\n",
        "\n",
        "\n",
        "def gerar_resposta(prompt):\n",
        "    tentativas = 0\n",
        "    while tentativas < 3:\n",
        "        try:\n",
        "            response = model.generate_content(prompt)\n",
        "            if response.text:\n",
        "                return response.text\n",
        "            time.sleep(2)\n",
        "            tentativas += 1\n",
        "        except Exception as e:\n",
        "            if 'quota' in str(e).lower():\n",
        "                raise Exception(\"Cota da API excedida\")\n",
        "            time.sleep(3)\n",
        "            tentativas += 1\n",
        "    raise Exception(\"Falha na conexão com a API\")\n",
        "\n",
        "def mostrar_roteiro(conteudo):\n",
        "    formatar_titulo(\"seu roteiro\")\n",
        "    print(\"✧ DETALHES DA VIAGEM ✧\".center(50))\n",
        "    print(conteudo)\n",
        "    print(\"\\n\" + \"🌴 BOA VIAGEM! 🌴\".center(50))\n",
        "    print(\"\\n*Os preços são uma estimativa e podem não refletir o valor exato no momento da viagem. Consulte os preços atualizados antes de viajar.*\")\n",
        "\n",
        "def main():\n",
        "    try:\n",
        "        dados = coletar_dados()\n",
        "\n",
        "        prompt = f\"\"\"Crie um roteiro detalhado para {dados['destino']} com:\n",
        "- {dados['dias']} dias de duração\n",
        "- Temporada: {dados['temporada']}\n",
        "- Orçamento: {dados['orcamento']}\n",
        "- Interesses: {dados['interesses']}\n",
        "- Estilo: {dados['estilo']}\n",
        "\n",
        "Inclua:\n",
        "1. Programação diária com horários\n",
        "2. Custo estimado em moeda local e USD\n",
        "3. Dicas específicas para o estilo de viagem\n",
        "4. 3 experiências únicas\n",
        "\n",
        "Formato:\n",
        "• Usar emojis temáticos\n",
        "• Destacar valores importantes\n",
        "• Separar por seções claras\"\"\"\n",
        "\n",
        "        resposta = gerar_resposta(prompt)\n",
        "        mostrar_roteiro(resposta)\n",
        "\n",
        "    except Exception as e:\n",
        "        print(f\"\\n⚠️ ERRO: {str(e)}\")\n",
        "        print(\"Soluções possíveis:\")\n",
        "        print(\"- Verifique sua conexão de internet\")\n",
        "        print(\"- Confira sua chave API no Google AI Studio\")\n",
        "        print(\"- Tente novamente mais tarde\")\n",
        "\n",
        "if __name__ == \"__main__\":\n",
        "    main()\n",
        "    while True:\n",
        "        if input(\"\\nDeseja criar outro roteiro? (s/n): \").lower() != 's':\n",
        "            formatar_titulo(\"até a próxima aventura!\")\n",
        "            break\n",
        "        main()\n"
      ],
      "metadata": {
        "colab": {
          "base_uri": "https://localhost:8080/",
          "height": 1000
        },
        "id": "KJKKWvrqDLFA",
        "outputId": "a1878b4d-4cbd-49b8-db70-1f52af685c80"
      },
      "execution_count": 10,
      "outputs": [
        {
          "output_type": "stream",
          "name": "stdout",
          "text": [
            "\n",
            "┏━━━━━━━━━━━━━━━━━━━━━━━━━━━━━━━━━━━━━━━━━━━━━━━━━━━━━━━━━━┓\n",
            "┃                     DADOS DE VIAGEM                      ┃\n",
            "┣━━━━━━━━━━━━━━━━━━━━━━━━━━━━━━━━━━━━━━━━━━━━━━━━━━━━━━━━━━┫\n",
            "► Destino: Moscou\n",
            "► Duração (dias): 3\n",
            "► Temporada (Baixa/Média/Alta): alta\n",
            "► Orçamento (Baixo/Médio/Alto): alto\n",
            "► Interesses principais: Baladas\n",
            "► Estilo de viagem: aventureiro \n",
            "\n",
            "┏━━━━━━━━━━━━━━━━━━━━━━━━━━━━━━━━━━━━━━━━━━━━━━━━━━━━━━━━━━┓\n",
            "┃                       SEU ROTEIRO                        ┃\n",
            "┣━━━━━━━━━━━━━━━━━━━━━━━━━━━━━━━━━━━━━━━━━━━━━━━━━━━━━━━━━━┫\n",
            "              ✧ DETALHES DA VIAGEM ✧              \n",
            "## Moscou: Aventura Noturna - 3 Dias (Alta Temporada) 🇷🇺\n",
            "\n",
            "**Orçamento:** Alto (Prepare-se para gastar!) 💰\n",
            "**Estilo:** Aventureiro 🤠\n",
            "**Interesse:** Baladas 🕺💃\n",
            "\n",
            "\n",
            "**Moeda:** Rublo Russo (RUB) / Dólar Americano (USD) -  *Cotação variável, verifique antes da viagem.*\n",
            "\n",
            "\n",
            "**Dicas para o viajante aventureiro:**\n",
            "\n",
            "* Aprenda algumas frases básicas em russo.  A comunicação pode ser um desafio, mas o esforço é apreciado!\n",
            "* Esteja preparado para longas filas, especialmente em atrações turísticas populares.\n",
            "* Moscou é uma cidade segura, mas tome precauções normais contra furtos, especialmente em locais lotados.\n",
            "* Explore além do roteiro! A verdadeira aventura está em descobrir lugares inesperados.\n",
            "* Negocie preços em mercados e com taxistas.\n",
            "\n",
            "\n",
            "---\n",
            "\n",
            "**Dia 1: Imersão Cultural e Noite Vibrante ✨**\n",
            "\n",
            "* **10:00:**  Café da manhã no **Café Pushkin**, um clássico de Moscou. (RUB 2.500 / USD 35) 🥐☕️\n",
            "* **11:30:** Explore a **Praça Vermelha** e o **Kremlin**, maravilhando-se com a arquitetura e história. (Entrada Kremlin: RUB 700 / USD 10) 🚩\n",
            "* **14:00:** Almoço no **White Rabbit**, restaurante com vista panorâmica da cidade. (RUB 4.000 / USD 55) 🏙️🥗\n",
            "* **16:00:**  Visita ao **Museu Estatal de Belas Artes Pushkin**, explorando obras-primas internacionais. (RUB 600 / USD 8) 🖼️\n",
            "* **19:00:** Jantar no **CDL Restaurant**, com cozinha moderna e atmosfera sofisticada. (RUB 5.000 / USD 70) 🥂🍽️\n",
            "* **22:00:**  Balada no **Gazgolder**, um clube famoso por sua música eletrônica e ambiente underground. (Entrada: RUB 1.500 / USD 20) 🎶\n",
            "\n",
            "\n",
            "---\n",
            "\n",
            "**Dia 2:  Adrenalina e Noite Eletrônica 🚀**\n",
            "\n",
            "* **10:00:** Aventura de **helicóptero** sobre Moscou, com vistas deslumbrantes da cidade. (RUB 15.000 / USD 200) 🚁\n",
            "* **12:00:** Almoço no **Glenuill**, pub escocês com atmosfera descontraída. (RUB 2.000 / USD 28) 🍻🍔\n",
            "* **14:00:** Explore o **metrô de Moscou**,  conhecido por suas estações ornamentadas como palácios. (Passe diário: RUB 250 / USD 3.50) 🚇\n",
            "* **16:00:** Relaxe em uma **Banya Russa** tradicional, experimentando a sauna e massagem. (RUB 3.000 / USD 40) 🧖‍♂️\n",
            "* **19:00:** Jantar no **Twins Garden**, restaurante com duas estrelas Michelin e foco em ingredientes locais. (RUB 7.000 / USD 95) 🌟\n",
            "* **22:00:**  Balada no **Propaganda**,  um dos clubes mais antigos e icônicos de Moscou, com música variada. (Entrada: RUB 1.000 / USD 14) 🪩\n",
            "\n",
            "\n",
            "---\n",
            "\n",
            "**Dia 3: Cultura Alternativa e Techno 🤘**\n",
            "\n",
            "* **10:00:** Explore o bairro artístico de **Winzavod**, com galerias de arte contemporânea, grafites e lojas descoladas. 🎨\n",
            "* **12:00:** Almoço no **Uilliam's**,  um restaurante moderno com cozinha internacional. (RUB 3.000 / USD 40) 🍴\n",
            "* **14:00:**  Visita ao **Bunker-42**, um museu da Guerra Fria em um bunker subterrâneo. (Tour: RUB 2.500 / USD 35) ☢️\n",
            "* **16:00:**  Compras na **GUM**,  uma loja de departamentos luxuosa na Praça Vermelha. (Prepare o cartão de crédito!) 🛍️\n",
            "* **19:00:** Jantar no **Semifreddo**, restaurante italiano com ambiente elegante e romântico. (RUB 6.000 / USD 80) 🍝\n",
            "* **22:00:** Balada no **Mutabor**, um clube com foco em techno e house music, com DJs internacionais. (Entrada: RUB 1.500 / USD 20) 🎧\n",
            "\n",
            "\n",
            "---\n",
            "\n",
            "**Experiências Únicas:**\n",
            "\n",
            "1. **Jantar Privado com vista para o Kremlin:** Contrate um chef particular para um jantar inesquecível em um apartamento com vista panorâmica.\n",
            "2. **Aula de Culinária Russa:** Aprenda a preparar pratos tradicionais como pelmeni e borscht.\n",
            "3. **Passeio de Balão de Ar Quente:** Sobrevoe a paisagem russa ao nascer do sol, uma experiência mágica.\n",
            "\n",
            "\n",
            "---\n",
            "\n",
            "**Total Estimado (3 dias):** RUB 60.000 - 80.000 / USD 800 - 1100 (sem incluir compras e extras)\n",
            "\n",
            "\n",
            "**Lembre-se:** Este é apenas um roteiro sugerido. Adapte-o aos seus gostos e aproveite ao máximo sua aventura em Moscou! 😉\n",
            "\n",
            "\n",
            "                 🌴 BOA VIAGEM! 🌴                  \n",
            "\n",
            "*Os preços são uma estimativa e podem não refletir o valor exato no momento da viagem. Consulte os preços atualizados antes de viajar.*\n",
            "\n",
            "Deseja criar outro roteiro? (s/n): n\n",
            "\n",
            "┏━━━━━━━━━━━━━━━━━━━━━━━━━━━━━━━━━━━━━━━━━━━━━━━━━━━━━━━━━━┓\n",
            "┃                 ATÉ A PRÓXIMA AVENTURA!                  ┃\n",
            "┣━━━━━━━━━━━━━━━━━━━━━━━━━━━━━━━━━━━━━━━━━━━━━━━━━━━━━━━━━━┫\n"
          ]
        }
      ]
    }
  ]
}